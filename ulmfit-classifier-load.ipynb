{
 "cells": [
  {
   "cell_type": "code",
   "execution_count": 163,
   "metadata": {},
   "outputs": [],
   "source": [
    "import pandas as pd\n",
    "import spacy\n",
    "import fastai\n",
    "from fastai.basic_data import *\n",
    "from fastai.datasets import *\n",
    "from fastai.text.data import *\n",
    "from fastai.text.learner import *\n",
    "from fastai.text import *\n",
    "from sklearn.metrics import precision_recall_fscore_support, confusion_matrix"
   ]
  },
  {
   "cell_type": "code",
   "execution_count": 2,
   "metadata": {},
   "outputs": [],
   "source": [
    "import ulmfit\n",
    "from ulmfit import *\n",
    "from ulmfit.pretrain_lm import *\n",
    "from ulmfit.__main__ import *"
   ]
  },
  {
   "cell_type": "code",
   "execution_count": 3,
   "metadata": {},
   "outputs": [
    {
     "name": "stdout",
     "output_type": "stream",
     "text": [
      "1.0.52\n",
      "2.1.1\n"
     ]
    }
   ],
   "source": [
    "print(fastai.__version__)\n",
    "print(spacy.__version__)"
   ]
  },
  {
   "cell_type": "code",
   "execution_count": 4,
   "metadata": {},
   "outputs": [],
   "source": [
    "MODEL_SUBPATH = \"models/f30k\"\n",
    "bs=40"
   ]
  },
  {
   "cell_type": "code",
   "execution_count": 5,
   "metadata": {},
   "outputs": [],
   "source": [
    "path_lm = Path('data/ulmfit/wiki/id-2')\n",
    "path_cls = Path('data/ulmfit/tmp/id-2')"
   ]
  },
  {
   "cell_type": "code",
   "execution_count": 6,
   "metadata": {},
   "outputs": [],
   "source": [
    "#path_lm.ls()"
   ]
  },
  {
   "cell_type": "code",
   "execution_count": 7,
   "metadata": {},
   "outputs": [],
   "source": [
    "#path_cls.ls()"
   ]
  },
  {
   "cell_type": "code",
   "execution_count": 8,
   "metadata": {},
   "outputs": [],
   "source": [
    "ulmfit = ULMFiT()"
   ]
  },
  {
   "cell_type": "code",
   "execution_count": 9,
   "metadata": {},
   "outputs": [
    {
     "name": "stdout",
     "output_type": "stream",
     "text": [
      "current directory is : /home/cahya/Work/MachineLearning/FastAI/FastAI-Course\n",
      "Max vocab: 30000\n",
      "Cache dir: /mnt/mldata/data/LM/ulmfit/tmp/id-2/models/f30k\n",
      "Model dir: /mnt/mldata/data/LM/ulmfit/tmp/id-2/models/f30k/lstm_orig.m\n"
     ]
    }
   ],
   "source": [
    "ulmfit_cls = ulmfit.cls(dataset_path=path_cls, base_lm_path=path_lm/f'{MODEL_SUBPATH}/lstm_orig.m', \n",
    "                       name='orig', lang='id')"
   ]
  },
  {
   "cell_type": "code",
   "execution_count": 10,
   "metadata": {},
   "outputs": [
    {
     "name": "stdout",
     "output_type": "stream",
     "text": [
      "Loss and accuracy using (cls_best): [0.21502715, tensor(0.9451), tensor(0.9467)] [0.23750702, tensor(0.9380), tensor(0.9395)]\n"
     ]
    },
    {
     "name": "stderr",
     "output_type": "stream",
     "text": [
      "/home/cahya/Work/miniconda3/envs/fastai-1.0/lib/python3.7/site-packages/fastai/metrics.py:179: UserWarning: average=`binary` was selected for a non binary case. Value for average has now been set to `macro` instead.\n",
      "  warn(\"average=`binary` was selected for a non binary case. Value for average has now been set to `macro` instead.\")\n"
     ]
    }
   ],
   "source": [
    "learner, data_lm, data_cls, metric = ulmfit_cls.validate_cls()"
   ]
  },
  {
   "cell_type": "code",
   "execution_count": 11,
   "metadata": {},
   "outputs": [
    {
     "data": {
      "text/plain": [
       "{'val_loss': 0.23750702,\n",
       " 'val_accuracy': 0.9380203485488892,\n",
       " 'tst_loss': 0.21502715,\n",
       " 'tst_accuracy': 0.9450686573982239}"
      ]
     },
     "execution_count": 11,
     "metadata": {},
     "output_type": "execute_result"
    }
   ],
   "source": [
    "metric"
   ]
  },
  {
   "cell_type": "code",
   "execution_count": 13,
   "metadata": {},
   "outputs": [],
   "source": [
    "#learner = text_classifier_learner(data_cls, AWD_LSTM, drop_mult=0.5)"
   ]
  },
  {
   "cell_type": "code",
   "execution_count": 158,
   "metadata": {},
   "outputs": [],
   "source": [
    "#learner.load('../lstm_orig.m/cls_best')"
   ]
  },
  {
   "cell_type": "code",
   "execution_count": 18,
   "metadata": {},
   "outputs": [
    {
     "data": {
      "text/plain": [
       "(Category 0, tensor(0), tensor([0.9251, 0.0275, 0.0155, 0.0319]))"
      ]
     },
     "execution_count": 18,
     "metadata": {},
     "output_type": "execute_result"
    }
   ],
   "source": [
    "learner.predict(\"ekonomi di indonesia sudah mulai maju\")"
   ]
  },
  {
   "cell_type": "code",
   "execution_count": 13,
   "metadata": {},
   "outputs": [
    {
     "data": {
      "text/plain": [
       "(Category 2, tensor(2), tensor([0.0259, 0.0326, 0.9145, 0.0269]))"
      ]
     },
     "execution_count": 13,
     "metadata": {},
     "output_type": "execute_result"
    }
   ],
   "source": [
    "learner.predict(\"Badai matahari juga bisa menyebabkan gangguan pada sistem pengendali orientasi ketinggian stasiun antariksa di orbit bum\")"
   ]
  },
  {
   "cell_type": "code",
   "execution_count": 14,
   "metadata": {},
   "outputs": [
    {
     "data": {
      "text/plain": [
       "(Category 1, tensor(1), tensor([0.0338, 0.8992, 0.0502, 0.0168]))"
      ]
     },
     "execution_count": 14,
     "metadata": {},
     "output_type": "execute_result"
    }
   ],
   "source": [
    "learner.predict(\"Kanselir Jerman Angela Merkel bertemu dengan Presiden AS George W. Bush, Kamis, untuk mengadakan pembicaraan yang diperkirakan dipusatkan pada upaya guna memperkuat hubungan trans-Atlantik\")"
   ]
  },
  {
   "cell_type": "code",
   "execution_count": 143,
   "metadata": {},
   "outputs": [],
   "source": [
    "predictions = learner.get_preds(ds_type=DatasetType.Valid, ordered=True)"
   ]
  },
  {
   "cell_type": "code",
   "execution_count": 146,
   "metadata": {},
   "outputs": [],
   "source": [
    "y_pred = np.argmax(predictions[0].numpy(), axis=1)"
   ]
  },
  {
   "cell_type": "code",
   "execution_count": 147,
   "metadata": {},
   "outputs": [],
   "source": [
    "y_true = predictions[1].numpy()"
   ]
  },
  {
   "cell_type": "code",
   "execution_count": 148,
   "metadata": {},
   "outputs": [
    {
     "name": "stdout",
     "output_type": "stream",
     "text": [
      "2403 2403\n"
     ]
    }
   ],
   "source": [
    "print(len(y_pred), len(y_true))"
   ]
  },
  {
   "cell_type": "code",
   "execution_count": 161,
   "metadata": {},
   "outputs": [],
   "source": [
    "metrics = precision_recall_fscore_support(y_true, y_pred, average='macro')"
   ]
  },
  {
   "cell_type": "code",
   "execution_count": 162,
   "metadata": {},
   "outputs": [
    {
     "data": {
      "text/plain": [
       "(0.9463253238418537, 0.9470814102194698, 0.946520983039226, None)"
      ]
     },
     "execution_count": 162,
     "metadata": {},
     "output_type": "execute_result"
    }
   ],
   "source": [
    "metrics"
   ]
  },
  {
   "cell_type": "code",
   "execution_count": 157,
   "metadata": {},
   "outputs": [
    {
     "data": {
      "text/plain": [
       "array([[653,   9,  27,   1],\n",
       "       [  7, 620,  29,  12],\n",
       "       [ 20,  10, 584,   3],\n",
       "       [  0,   9,   5, 414]])"
      ]
     },
     "execution_count": 157,
     "metadata": {},
     "output_type": "execute_result"
    }
   ],
   "source": [
    "confusion_matrix(y_true, y_pred)"
   ]
  },
  {
   "cell_type": "code",
   "execution_count": 121,
   "metadata": {},
   "outputs": [
    {
     "name": "stderr",
     "output_type": "stream",
     "text": [
      "/home/cahya/Work/miniconda3/envs/fastai-1.0/lib/python3.7/site-packages/fastai/metrics.py:179: UserWarning: average=`binary` was selected for a non binary case. Value for average has now been set to `macro` instead.\n",
      "  warn(\"average=`binary` was selected for a non binary case. Value for average has now been set to `macro` instead.\")\n"
     ]
    },
    {
     "data": {
      "text/plain": [
       "[0.21502715, tensor(0.9451), tensor(0.9467)]"
      ]
     },
     "execution_count": 121,
     "metadata": {},
     "output_type": "execute_result"
    }
   ],
   "source": [
    "learner.validate()"
   ]
  },
  {
   "cell_type": "code",
   "execution_count": null,
   "metadata": {},
   "outputs": [],
   "source": []
  }
 ],
 "metadata": {
  "kernelspec": {
   "display_name": "Python 3",
   "language": "python",
   "name": "python3"
  },
  "language_info": {
   "codemirror_mode": {
    "name": "ipython",
    "version": 3
   },
   "file_extension": ".py",
   "mimetype": "text/x-python",
   "name": "python",
   "nbconvert_exporter": "python",
   "pygments_lexer": "ipython3",
   "version": "3.7.3"
  }
 },
 "nbformat": 4,
 "nbformat_minor": 2
}
