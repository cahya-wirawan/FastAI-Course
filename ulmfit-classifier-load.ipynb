{
 "cells": [
  {
   "cell_type": "code",
   "execution_count": 1,
   "metadata": {},
   "outputs": [],
   "source": [
    "import pandas as pd\n",
    "import spacy\n",
    "import fastai\n",
    "from fastai.basic_data import *\n",
    "from fastai.datasets import *\n",
    "from fastai.text.data import *\n",
    "from fastai.text.learner import *\n",
    "from fastai.text import *"
   ]
  },
  {
   "cell_type": "code",
   "execution_count": 2,
   "metadata": {},
   "outputs": [],
   "source": [
    "import ulmfit\n",
    "from ulmfit import *\n",
    "from ulmfit.pretrain_lm import *\n",
    "from ulmfit.__main__ import *"
   ]
  },
  {
   "cell_type": "code",
   "execution_count": 3,
   "metadata": {},
   "outputs": [
    {
     "name": "stdout",
     "output_type": "stream",
     "text": [
      "1.0.52\n",
      "2.1.1\n"
     ]
    }
   ],
   "source": [
    "print(fastai.__version__)\n",
    "print(spacy.__version__)"
   ]
  },
  {
   "cell_type": "code",
   "execution_count": 4,
   "metadata": {},
   "outputs": [],
   "source": [
    "MODEL_SUBPATH = \"models/f30k\"\n",
    "bs=40"
   ]
  },
  {
   "cell_type": "code",
   "execution_count": 5,
   "metadata": {},
   "outputs": [],
   "source": [
    "path_lm = Path('data/ulmfit/wiki/id-2')\n",
    "path_cls = Path('data/ulmfit/tmp/id-2')"
   ]
  },
  {
   "cell_type": "code",
   "execution_count": 6,
   "metadata": {},
   "outputs": [],
   "source": [
    "#path_lm.ls()"
   ]
  },
  {
   "cell_type": "code",
   "execution_count": 7,
   "metadata": {},
   "outputs": [],
   "source": [
    "#path_cls.ls()"
   ]
  },
  {
   "cell_type": "code",
   "execution_count": 8,
   "metadata": {},
   "outputs": [],
   "source": [
    "ulmfit = ULMFiT()"
   ]
  },
  {
   "cell_type": "code",
   "execution_count": 9,
   "metadata": {},
   "outputs": [
    {
     "name": "stdout",
     "output_type": "stream",
     "text": [
      "current directory is : /home/cahya/Work/MachineLearning/FastAI/FastAI-Course\n",
      "Max vocab: 30000\n",
      "Cache dir: /mnt/mldata/data/LM/ulmfit/tmp/id-2/models/f30k\n",
      "Model dir: /mnt/mldata/data/LM/ulmfit/tmp/id-2/models/f30k/lstm_orig.m\n"
     ]
    }
   ],
   "source": [
    "ulmfit_cls = ulmfit.cls(dataset_path=path_cls, base_lm_path=path_lm/f'{MODEL_SUBPATH}/lstm_orig.m', \n",
    "                       name='orig', lang='id')"
   ]
  },
  {
   "cell_type": "code",
   "execution_count": 10,
   "metadata": {},
   "outputs": [
    {
     "name": "stdout",
     "output_type": "stream",
     "text": [
      "Loss and accuracy using (cls_best): [0.21502715, tensor(0.9451), tensor(0.9467)] [0.23750702, tensor(0.9380), tensor(0.9395)]\n"
     ]
    },
    {
     "name": "stderr",
     "output_type": "stream",
     "text": [
      "/home/cahya/Work/miniconda3/envs/fastai-1.0/lib/python3.7/site-packages/fastai/metrics.py:179: UserWarning: average=`binary` was selected for a non binary case. Value for average has now been set to `macro` instead.\n",
      "  warn(\"average=`binary` was selected for a non binary case. Value for average has now been set to `macro` instead.\")\n"
     ]
    }
   ],
   "source": [
    "learner, data_lm, data_cls, metric = ulmfit_cls.validate_cls()"
   ]
  },
  {
   "cell_type": "code",
   "execution_count": 11,
   "metadata": {},
   "outputs": [
    {
     "data": {
      "text/plain": [
       "{'val_loss': 0.23750702,\n",
       " 'val_accuracy': 0.9380203485488892,\n",
       " 'tst_loss': 0.21502715,\n",
       " 'tst_accuracy': 0.9450686573982239}"
      ]
     },
     "execution_count": 11,
     "metadata": {},
     "output_type": "execute_result"
    }
   ],
   "source": [
    "metric"
   ]
  },
  {
   "cell_type": "code",
   "execution_count": 13,
   "metadata": {},
   "outputs": [],
   "source": [
    "#learner = text_classifier_learner(data_cls, AWD_LSTM, drop_mult=0.5)"
   ]
  },
  {
   "cell_type": "code",
   "execution_count": 15,
   "metadata": {
    "collapsed": true
   },
   "outputs": [
    {
     "data": {
      "text/plain": [
       "RNNLearner(data=TextClasDataBunch;\n",
       "\n",
       "Train: LabelList (2162 items)\n",
       "x: TextList\n",
       "xxbos xxfld 1 xxmaj material nano dalam bentuk xxunk misalnya xxunk berukuran nano satu per miliar meter yang xxunk ke serat - serat xxunk membuat tekstil menjadi berkarakter nano .,xxbos xxfld 1 xxmaj petugas pemadam kebakaran setempat mengatakan , sekitar 40 orang dibawa ke rumahsakit , termasuk dua penumpang yang luka - lukanya cukup serius , seperti patah tulang .,xxbos xxfld 1 xxmaj laporan keuangan tahunan xxup bi memperlihatkan , pertumbuhan surplus yang signifikan tersebut merupakan kontribusi dari penerimaan luar biasa , karena jumlah penerimaan xxup bi periode tersebut justru menurun , sedangkan jumlah pengeluarannya malah meningkat .,xxbos xxfld 1 xxmaj gomes diangkat sebagai perdana menteri pada xxmaj november 2005 meskipun xxup xxunk keberatan .,xxbos xxfld 1 xxmaj tinggi sarang rayap bisa mencapai enam meter , dan lebarnya bisa mencapai dua belas meter .\n",
       "y: CategoryList\n",
       "2,1,0,1,2\n",
       "Path: /mnt/mldata/data/LM/ulmfit/tmp/id-2/models/f30k;\n",
       "\n",
       "Valid: LabelList (2403 items)\n",
       "x: TextList\n",
       "xxbos xxfld 1 xxmaj kedua orang yang cedera itu berada dalam kondisi sedang dan serius .,xxbos xxfld 1 xxmaj xxunk di sisi lain , sinyal akan diakuinya keberadaan lembaga keuangan mikro non formal juga membuat kegelisahan bagi pelakunya .,xxbos xxfld 1 xxmaj menurut dia , harga minyak mentah dunia saat ini berada di posisi 126 dolar xxup as per barel sedikit melemah dibanding hari sebelumnya yang mencapai xxunk dolar xxup as lebih .,xxbos xxfld 1 xxmaj pengkajian ini memberikan konfirmasi bahwa kita menghadapi sejenis materi yang berbeda sama sekali , tak seperti yang kita bayangkan .,xxbos xxfld 1 xxmaj gol akhir xxmaj marco xxmaj borriello membuat xxmaj genoa mendapat satu angka setelah striker asal xxmaj honduras , xxmaj david xxmaj suazo , mencetak angka pada menit ke-12 untuk xxmaj inter , yang pemain tengahnya dari xxmaj portugal , xxmaj pele , dikeluarkan dari lapangan karena mendapat kartu kuning kedua sebelum turun minum .\n",
       "y: CategoryList\n",
       "1,0,0,2,3\n",
       "Path: /mnt/mldata/data/LM/ulmfit/tmp/id-2/models/f30k;\n",
       "\n",
       "Test: None, model=SequentialRNN(\n",
       "  (0): MultiBatchEncoder(\n",
       "    (module): AWD_LSTM(\n",
       "      (encoder): Embedding(15119, 400, padding_idx=1)\n",
       "      (encoder_dp): EmbeddingDropout(\n",
       "        (emb): Embedding(15119, 400, padding_idx=1)\n",
       "      )\n",
       "      (rnns): ModuleList(\n",
       "        (0): WeightDropout(\n",
       "          (module): LSTM(400, 1150, batch_first=True)\n",
       "        )\n",
       "        (1): WeightDropout(\n",
       "          (module): LSTM(1150, 1150, batch_first=True)\n",
       "        )\n",
       "        (2): WeightDropout(\n",
       "          (module): LSTM(1150, 400, batch_first=True)\n",
       "        )\n",
       "      )\n",
       "      (input_dp): RNNDropout()\n",
       "      (hidden_dps): ModuleList(\n",
       "        (0): RNNDropout()\n",
       "        (1): RNNDropout()\n",
       "        (2): RNNDropout()\n",
       "      )\n",
       "    )\n",
       "  )\n",
       "  (1): PoolingLinearClassifier(\n",
       "    (layers): Sequential(\n",
       "      (0): BatchNorm1d(1200, eps=1e-05, momentum=0.1, affine=True, track_running_stats=True)\n",
       "      (1): Dropout(p=0.2)\n",
       "      (2): Linear(in_features=1200, out_features=50, bias=True)\n",
       "      (3): ReLU(inplace)\n",
       "      (4): BatchNorm1d(50, eps=1e-05, momentum=0.1, affine=True, track_running_stats=True)\n",
       "      (5): Dropout(p=0.1)\n",
       "      (6): Linear(in_features=50, out_features=4, bias=True)\n",
       "    )\n",
       "  )\n",
       "), opt_func=functools.partial(<class 'torch.optim.adam.Adam'>, betas=(0.9, 0.99)), loss_func=FlattenedLoss of CrossEntropyLoss(), metrics=[<function accuracy at 0x7f7720e16950>], true_wd=True, bn_wd=True, wd=0.01, train_bn=True, path=PosixPath('/mnt/mldata/data/LM/ulmfit/tmp/id-2/models/f30k'), model_dir='models', callback_fns=[functools.partial(<class 'fastai.basic_train.Recorder'>, add_time=True, silent=False)], callbacks=[RNNTrainer\n",
       "learn: ...\n",
       "alpha: 2.0\n",
       "beta: 1.0], layer_groups=[Sequential(\n",
       "  (0): Embedding(15119, 400, padding_idx=1)\n",
       "  (1): EmbeddingDropout(\n",
       "    (emb): Embedding(15119, 400, padding_idx=1)\n",
       "  )\n",
       "), Sequential(\n",
       "  (0): WeightDropout(\n",
       "    (module): LSTM(400, 1150, batch_first=True)\n",
       "  )\n",
       "  (1): RNNDropout()\n",
       "), Sequential(\n",
       "  (0): WeightDropout(\n",
       "    (module): LSTM(1150, 1150, batch_first=True)\n",
       "  )\n",
       "  (1): RNNDropout()\n",
       "), Sequential(\n",
       "  (0): WeightDropout(\n",
       "    (module): LSTM(1150, 400, batch_first=True)\n",
       "  )\n",
       "  (1): RNNDropout()\n",
       "), Sequential(\n",
       "  (0): PoolingLinearClassifier(\n",
       "    (layers): Sequential(\n",
       "      (0): BatchNorm1d(1200, eps=1e-05, momentum=0.1, affine=True, track_running_stats=True)\n",
       "      (1): Dropout(p=0.2)\n",
       "      (2): Linear(in_features=1200, out_features=50, bias=True)\n",
       "      (3): ReLU(inplace)\n",
       "      (4): BatchNorm1d(50, eps=1e-05, momentum=0.1, affine=True, track_running_stats=True)\n",
       "      (5): Dropout(p=0.1)\n",
       "      (6): Linear(in_features=50, out_features=4, bias=True)\n",
       "    )\n",
       "  )\n",
       ")], add_time=True, silent=None)"
      ]
     },
     "execution_count": 15,
     "metadata": {},
     "output_type": "execute_result"
    }
   ],
   "source": [
    "#learner.load('../lstm_orig.m/cls_best')"
   ]
  },
  {
   "cell_type": "code",
   "execution_count": 18,
   "metadata": {},
   "outputs": [
    {
     "data": {
      "text/plain": [
       "(Category 0, tensor(0), tensor([0.9251, 0.0275, 0.0155, 0.0319]))"
      ]
     },
     "execution_count": 18,
     "metadata": {},
     "output_type": "execute_result"
    }
   ],
   "source": [
    "learner.predict(\"ekonomi di indonesia sudah mulai maju\")"
   ]
  },
  {
   "cell_type": "code",
   "execution_count": 13,
   "metadata": {},
   "outputs": [
    {
     "data": {
      "text/plain": [
       "(Category 2, tensor(2), tensor([0.0259, 0.0326, 0.9145, 0.0269]))"
      ]
     },
     "execution_count": 13,
     "metadata": {},
     "output_type": "execute_result"
    }
   ],
   "source": [
    "learner.predict(\"Badai matahari juga bisa menyebabkan gangguan pada sistem pengendali orientasi ketinggian stasiun antariksa di orbit bum\")"
   ]
  },
  {
   "cell_type": "code",
   "execution_count": 14,
   "metadata": {},
   "outputs": [
    {
     "data": {
      "text/plain": [
       "(Category 1, tensor(1), tensor([0.0338, 0.8992, 0.0502, 0.0168]))"
      ]
     },
     "execution_count": 14,
     "metadata": {},
     "output_type": "execute_result"
    }
   ],
   "source": [
    "learner.predict(\"Kanselir Jerman Angela Merkel bertemu dengan Presiden AS George W. Bush, Kamis, untuk mengadakan pembicaraan yang diperkirakan dipusatkan pada upaya guna memperkuat hubungan trans-Atlantik\")"
   ]
  },
  {
   "cell_type": "code",
   "execution_count": 40,
   "metadata": {},
   "outputs": [],
   "source": [
    "res = learner.get_preds(ds_type=DatasetType.Valid, ordered=True)"
   ]
  },
  {
   "cell_type": "code",
   "execution_count": 36,
   "metadata": {},
   "outputs": [
    {
     "data": {
      "text/plain": [
       "tensor([1, 0, 0, 2, 3, 1, 0, 2, 1, 2, 2, 0, 3, 0, 2, 0, 1, 1, 0, 2])"
      ]
     },
     "execution_count": 36,
     "metadata": {},
     "output_type": "execute_result"
    }
   ],
   "source": [
    "res[1][:20]"
   ]
  },
  {
   "cell_type": "code",
   "execution_count": null,
   "metadata": {},
   "outputs": [],
   "source": []
  }
 ],
 "metadata": {
  "kernelspec": {
   "display_name": "Python 3",
   "language": "python",
   "name": "python3"
  },
  "language_info": {
   "codemirror_mode": {
    "name": "ipython",
    "version": 3
   },
   "file_extension": ".py",
   "mimetype": "text/x-python",
   "name": "python",
   "nbconvert_exporter": "python",
   "pygments_lexer": "ipython3",
   "version": "3.7.3"
  }
 },
 "nbformat": 4,
 "nbformat_minor": 2
}
