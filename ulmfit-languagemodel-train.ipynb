{
 "cells": [
  {
   "cell_type": "code",
   "execution_count": 2,
   "metadata": {},
   "outputs": [],
   "source": [
    "import os, sys\n",
    "sys.path.append(os.path.realpath('ulmfit-multilingual'))"
   ]
  },
  {
   "cell_type": "code",
   "execution_count": 3,
   "metadata": {},
   "outputs": [],
   "source": [
    "import pandas as pd\n",
    "import spacy\n",
    "import fastai\n",
    "from fastai.basic_data import *\n",
    "from fastai.datasets import *\n",
    "from fastai.text.data import *\n",
    "from fastai.text.learner import *\n",
    "from fastai.text import *"
   ]
  },
  {
   "cell_type": "code",
   "execution_count": 4,
   "metadata": {},
   "outputs": [],
   "source": [
    "from ulmfit import *\n",
    "from ulmfit.pretrain_lm import *\n",
    "from ulmfit.__main__ import *"
   ]
  },
  {
   "cell_type": "code",
   "execution_count": 5,
   "metadata": {},
   "outputs": [
    {
     "name": "stdout",
     "output_type": "stream",
     "text": [
      "1.0.52\n",
      "2.1.1\n"
     ]
    }
   ],
   "source": [
    "print(fastai.__version__)\n",
    "print(spacy.__version__)"
   ]
  },
  {
   "cell_type": "code",
   "execution_count": 6,
   "metadata": {},
   "outputs": [],
   "source": [
    "MODEL_SUBPATH = \"models/f30k\"\n",
    "bs=40"
   ]
  },
  {
   "cell_type": "code",
   "execution_count": 7,
   "metadata": {},
   "outputs": [],
   "source": [
    "path_lm = Path('data/ulmfit/wiki/id-2')"
   ]
  },
  {
   "cell_type": "code",
   "execution_count": 13,
   "metadata": {},
   "outputs": [
    {
     "data": {
      "text/plain": [
       "[PosixPath('data/ulmfit/wiki/id-2/id.wiki.train.tokens'),\n",
       " PosixPath('data/ulmfit/wiki/id-2/id.wiki.valid.tokens'),\n",
       " PosixPath('data/ulmfit/wiki/id-2/id.wiki.test.tokens'),\n",
       " PosixPath('data/ulmfit/wiki/id-2/tmp_lm'),\n",
       " PosixPath('data/ulmfit/wiki/id-2/abc'),\n",
       " PosixPath('data/ulmfit/wiki/id-2/export.pkl'),\n",
       " PosixPath('data/ulmfit/wiki/id-2/backup'),\n",
       " PosixPath('data/ulmfit/wiki/id-2/models.1')]"
      ]
     },
     "execution_count": 13,
     "metadata": {},
     "output_type": "execute_result"
    }
   ],
   "source": [
    "#path_lm.ls()"
   ]
  },
  {
   "cell_type": "code",
   "execution_count": 15,
   "metadata": {},
   "outputs": [],
   "source": [
    "ulmfit = ULMFiT()"
   ]
  },
  {
   "cell_type": "code",
   "execution_count": 16,
   "metadata": {},
   "outputs": [
    {
     "name": "stdout",
     "output_type": "stream",
     "text": [
      "Max vocab: 30000\n",
      "Cache dir: data/ulmfit/wiki/id-2/models/f30k\n",
      "Model dir: data/ulmfit/wiki/id-2/models/f30k/lstm_orig.m\n"
     ]
    }
   ],
   "source": [
    "ulmfit_lm = ulmfit.lm(dataset_path=path_lm, tokenizer='f', nl=3, name='orig',\n",
    "              max_vocab=30000, lang='id', qrnn=False)"
   ]
  },
  {
   "cell_type": "code",
   "execution_count": 17,
   "metadata": {},
   "outputs": [
    {
     "name": "stdout",
     "output_type": "stream",
     "text": [
      "Data lm, trn: 1633, val: 256\n",
      "Size of vocabulary: 30005\n",
      "First 20 words in vocab: ['xxunk', 'xxpad', 'xxbos', 'xxeos', 'xxfld', 'xxmaj', 'xxup', 'xxrep', 'xxwrep', ',', '.', 'dan', 'yang', \"'\", 'di', '&', '-', '\\n \\n ', 'dari', 'pada']\n",
      "Training args:  {'clip': 0.12, 'alpha': 2, 'beta': 1, 'drop_mult': 0.2} dps:  {'output_p': 0.25, 'hidden_p': 0.1, 'input_p': 0.2, 'embed_p': 0.02, 'weight_p': 0.15}\n",
      "Bptt 70\n",
      "Training lm from random weights\n"
     ]
    },
    {
     "data": {
      "text/html": [
       "<table border=\"1\" class=\"dataframe\">\n",
       "  <thead>\n",
       "    <tr style=\"text-align: left;\">\n",
       "      <th>epoch</th>\n",
       "      <th>train_loss</th>\n",
       "      <th>valid_loss</th>\n",
       "      <th>accuracy</th>\n",
       "      <th>time</th>\n",
       "    </tr>\n",
       "  </thead>\n",
       "  <tbody>\n",
       "    <tr>\n",
       "      <td>0</td>\n",
       "      <td>4.428475</td>\n",
       "      <td>4.436488</td>\n",
       "      <td>0.304886</td>\n",
       "      <td>02:01</td>\n",
       "    </tr>\n",
       "    <tr>\n",
       "      <td>1</td>\n",
       "      <td>3.988576</td>\n",
       "      <td>4.081640</td>\n",
       "      <td>0.330584</td>\n",
       "      <td>02:02</td>\n",
       "    </tr>\n",
       "  </tbody>\n",
       "</table>"
      ],
      "text/plain": [
       "<IPython.core.display.HTML object>"
      ]
     },
     "metadata": {},
     "output_type": "display_data"
    },
    {
     "name": "stdout",
     "output_type": "stream",
     "text": [
      "data/ulmfit/wiki/id-2/models/f30k\n",
      "Saving info data/ulmfit/wiki/id-2/models/f30k/lstm_orig.m/info.json\n"
     ]
    }
   ],
   "source": [
    "learner = ulmfit_lm.train(num_epochs=2, drop_mult=0.2)"
   ]
  },
  {
   "cell_type": "code",
   "execution_count": 11,
   "metadata": {},
   "outputs": [
    {
     "data": {
      "text/plain": [
       "'saya ingin makan karena Yudistira memiliki sejumlah kehidupan yang disebut dalam Tiongkok yang telah merupakan salah satu dari sumber lainnya yang dapat pernah membentuk dalam sebuah bentuk seseorang dari sistem manusia , yang juga yang terbentuk pada kurun bulan . Hal ini dapat ada pada suatu musim jauh dari angka tersebut . Gelombang ini disebut Dna . Saat tersebut , hewan yang akan terlalu cahaya yang dapat diketahui seperti bahan . \\n \\n  Gaya dalam contoh , antara suatu planet , yang membentuk bahasa Melayu menjadi bahasa pertama lainnya , namun dalam sejarah tahun yang pada akhir'"
      ]
     },
     "execution_count": 11,
     "metadata": {},
     "output_type": "execute_result"
    }
   ],
   "source": [
    "learner.predict('saya ingin makan karena', 100, temperature=1, min_p=0.001)"
   ]
  },
  {
   "cell_type": "code",
   "execution_count": null,
   "metadata": {},
   "outputs": [],
   "source": []
  }
 ],
 "metadata": {
  "kernelspec": {
   "display_name": "Python 3",
   "language": "python",
   "name": "python3"
  },
  "language_info": {
   "codemirror_mode": {
    "name": "ipython",
    "version": 3
   },
   "file_extension": ".py",
   "mimetype": "text/x-python",
   "name": "python",
   "nbconvert_exporter": "python",
   "pygments_lexer": "ipython3",
   "version": "3.7.3"
  }
 },
 "nbformat": 4,
 "nbformat_minor": 2
}
