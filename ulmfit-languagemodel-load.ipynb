{
 "cells": [
  {
   "cell_type": "code",
   "execution_count": 1,
   "metadata": {},
   "outputs": [],
   "source": [
    "import os, sys\n",
    "sys.path.append(os.path.realpath('ulmfit-multilingual'))"
   ]
  },
  {
   "cell_type": "code",
   "execution_count": null,
   "metadata": {},
   "outputs": [],
   "source": [
    "import pandas as pd\n",
    "import spacy\n",
    "import fastai\n",
    "from fastai.basic_data import *\n",
    "from fastai.datasets import *\n",
    "from fastai.text.data import *\n",
    "from fastai.text.learner import *\n",
    "from fastai.text import *"
   ]
  },
  {
   "cell_type": "code",
   "execution_count": 2,
   "metadata": {},
   "outputs": [],
   "source": [
    "import ulmfit\n",
    "from ulmfit import *\n",
    "from ulmfit.pretrain_lm import *\n",
    "from ulmfit.__main__ import *"
   ]
  },
  {
   "cell_type": "code",
   "execution_count": 3,
   "metadata": {},
   "outputs": [
    {
     "name": "stdout",
     "output_type": "stream",
     "text": [
      "1.0.52\n",
      "2.1.1\n"
     ]
    }
   ],
   "source": [
    "print(fastai.__version__)\n",
    "print(spacy.__version__)"
   ]
  },
  {
   "cell_type": "code",
   "execution_count": 4,
   "metadata": {},
   "outputs": [],
   "source": [
    "MODEL_SUBPATH = \"models/f60k\"\n",
    "bs=40"
   ]
  },
  {
   "cell_type": "code",
   "execution_count": 5,
   "metadata": {},
   "outputs": [],
   "source": [
    "path_lm = Path('data/ulmfit/wiki/id-100')"
   ]
  },
  {
   "cell_type": "code",
   "execution_count": 6,
   "metadata": {},
   "outputs": [
    {
     "data": {
      "text/plain": [
       "[PosixPath('data/ulmfit/wiki/id-100/models/f60k/lstm_orig.m'),\n",
       " PosixPath('data/ulmfit/wiki/id-100/models/f60k/lm'),\n",
       " PosixPath('data/ulmfit/wiki/id-100/models/f60k/itos.pkl')]"
      ]
     },
     "execution_count": 6,
     "metadata": {},
     "output_type": "execute_result"
    }
   ],
   "source": [
    "(path_lm/f'{MODEL_SUBPATH}').ls()"
   ]
  },
  {
   "cell_type": "code",
   "execution_count": 7,
   "metadata": {},
   "outputs": [],
   "source": [
    "data_lm = load_data(path_lm/f'{MODEL_SUBPATH}', 'lm', bs=bs)\n",
    "#data_lm_empty = DataBunch.load_empty(path_lm)"
   ]
  },
  {
   "cell_type": "code",
   "execution_count": 12,
   "metadata": {},
   "outputs": [],
   "source": [
    "learner = language_model_learner(data_lm, AWD_LSTM, pretrained=True,\n",
    "                                 pretrained_fnames=(f\"../lstm_orig.m/lm_best\", \n",
    "                                                    f\"../itos\"))"
   ]
  },
  {
   "cell_type": "code",
   "execution_count": 21,
   "metadata": {},
   "outputs": [
    {
     "data": {
      "text/plain": [
       "\"cinta dan wanita adalah istilah baru yang merujuk pada hubungan seksual , tetapi juga nama dan tujuan serta hubungan secara keseluruhan . Sejak tahun 2015 , istilah & ' Perempuan Baru & ' dan & ' Perempuan Katolik & ' lebih berkembang menjadi nama orang ( Kristen Protestan ) , yang meliputi Kristen , Islam dan Protestan . Penganut Yahudi yang mengalami berbagai macam konflik antara perempuan dengan kelompok anak agama mereka terkadang disebut sebagai & ' Kelompok Laki - laki Kristen & ' , dan menjadi istilah bagi\""
      ]
     },
     "execution_count": 21,
     "metadata": {},
     "output_type": "execute_result"
    }
   ],
   "source": [
    "learner.predict('cinta dan wanita adalah', 100, temperature=1.0, min_p=0.001)"
   ]
  },
  {
   "cell_type": "code",
   "execution_count": null,
   "metadata": {},
   "outputs": [],
   "source": []
  }
 ],
 "metadata": {
  "kernelspec": {
   "display_name": "Python 3",
   "language": "python",
   "name": "python3"
  },
  "language_info": {
   "codemirror_mode": {
    "name": "ipython",
    "version": 3
   },
   "file_extension": ".py",
   "mimetype": "text/x-python",
   "name": "python",
   "nbconvert_exporter": "python",
   "pygments_lexer": "ipython3",
   "version": "3.7.3"
  }
 },
 "nbformat": 4,
 "nbformat_minor": 2
}
