{
 "cells": [
  {
   "cell_type": "code",
   "execution_count": 1,
   "metadata": {},
   "outputs": [],
   "source": [
    "import pandas as pd\n",
    "import spacy\n",
    "import fastai\n",
    "from fastai.basic_data import *\n",
    "from fastai.datasets import *\n",
    "from fastai.text.data import *\n",
    "from fastai.text.learner import *\n",
    "from fastai.text import *"
   ]
  },
  {
   "cell_type": "code",
   "execution_count": 21,
   "metadata": {},
   "outputs": [],
   "source": [
    "import ulmfit\n",
    "from ulmfit import *\n",
    "from ulmfit.pretrain_lm import *\n",
    "from ulmfit.__main__ import *"
   ]
  },
  {
   "cell_type": "code",
   "execution_count": 22,
   "metadata": {},
   "outputs": [
    {
     "name": "stdout",
     "output_type": "stream",
     "text": [
      "1.0.52\n",
      "2.1.1\n"
     ]
    }
   ],
   "source": [
    "print(fastai.__version__)\n",
    "print(spacy.__version__)"
   ]
  },
  {
   "cell_type": "code",
   "execution_count": 23,
   "metadata": {},
   "outputs": [],
   "source": [
    "MODEL_SUBPATH = \"models/f30k\"\n",
    "bs=40"
   ]
  },
  {
   "cell_type": "code",
   "execution_count": 24,
   "metadata": {},
   "outputs": [],
   "source": [
    "path_lm = Path('data/ulmfit/wiki/id-2')"
   ]
  },
  {
   "cell_type": "code",
   "execution_count": 25,
   "metadata": {},
   "outputs": [
    {
     "data": {
      "text/plain": [
       "[PosixPath('data/ulmfit/wiki/id-2/models/f30k/lstm_orig.m'),\n",
       " PosixPath('data/ulmfit/wiki/id-2/models/f30k/lm'),\n",
       " PosixPath('data/ulmfit/wiki/id-2/models/f30k/itos.pkl'),\n",
       " PosixPath('data/ulmfit/wiki/id-2/models/f30k/models')]"
      ]
     },
     "execution_count": 25,
     "metadata": {},
     "output_type": "execute_result"
    }
   ],
   "source": [
    "(path_lm/f'{MODEL_SUBPATH}').ls()"
   ]
  },
  {
   "cell_type": "code",
   "execution_count": 26,
   "metadata": {},
   "outputs": [],
   "source": [
    "#data_lm = load_data(path_lm/f'{MODEL_SUBPATH}', 'lm', bs=bs)\n",
    "data_lm_empty = DataBunch.load_empty(path_lm)"
   ]
  },
  {
   "cell_type": "code",
   "execution_count": 29,
   "metadata": {},
   "outputs": [],
   "source": [
    "learner = language_model_learner(data_lm_empty, AWD_LSTM, pretrained=True,\n",
    "                                 pretrained_fnames=(f\"../{MODEL_SUBPATH}/lstm_orig.m/lm_best\", \n",
    "                                                    f\"../{MODEL_SUBPATH}/itos\"))"
   ]
  },
  {
   "cell_type": "code",
   "execution_count": 30,
   "metadata": {},
   "outputs": [
    {
     "data": {
      "text/plain": [
       "\"saya ingin makan karena AS pada abad ke-18 , yang disebut dengan & ' Kitab Israel & ' . \\n  Dalam Naskah & ' United World Lukas & ' , yang telah dibuat adalah Tuhan yang secara langsung disebut sebagai Allah . \\n \\n  Hubungan ini disebut sebagai xxbos \\n  = Inggris = \\n  Romawi \\n \\n  Yunani adalah salah satu Gereja Israel atau dalam bahasa Austronesia , kata & ' & ' Injil / lain & ' Melayu , dan nama Inggris yang tidak dari\""
      ]
     },
     "execution_count": 30,
     "metadata": {},
     "output_type": "execute_result"
    }
   ],
   "source": [
    "learner.predict('saya ingin makan karena', 100, temperature=1.0, min_p=0.001)"
   ]
  },
  {
   "cell_type": "code",
   "execution_count": null,
   "metadata": {},
   "outputs": [],
   "source": []
  }
 ],
 "metadata": {
  "kernelspec": {
   "display_name": "Python 3",
   "language": "python",
   "name": "python3"
  },
  "language_info": {
   "codemirror_mode": {
    "name": "ipython",
    "version": 3
   },
   "file_extension": ".py",
   "mimetype": "text/x-python",
   "name": "python",
   "nbconvert_exporter": "python",
   "pygments_lexer": "ipython3",
   "version": "3.7.3"
  }
 },
 "nbformat": 4,
 "nbformat_minor": 2
}
